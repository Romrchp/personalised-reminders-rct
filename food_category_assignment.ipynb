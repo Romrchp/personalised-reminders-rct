{
 "cells": [
  {
   "cell_type": "code",
   "execution_count": 1,
   "metadata": {},
   "outputs": [
    {
     "data": {
      "text/plain": [
       "True"
      ]
     },
     "execution_count": 1,
     "metadata": {},
     "output_type": "execute_result"
    }
   ],
   "source": [
    "import pandas as pd\n",
    "from tqdm import tqdm\n",
    "import json\n",
    "from openai import OpenAI\n",
    "\n",
    "client = OpenAI()\n",
    "from dotenv import load_dotenv\n",
    "\n",
    "load_dotenv()"
   ]
  },
  {
   "cell_type": "code",
   "execution_count": 2,
   "metadata": {},
   "outputs": [],
   "source": [
    "yes = pd.read_csv('data/cohort_annotation_items.csv')\n",
    "liste = yes['product_name'].dropna().unique()"
   ]
  },
  {
   "cell_type": "code",
   "execution_count": 17,
   "metadata": {},
   "outputs": [
    {
     "name": "stdout",
     "output_type": "stream",
     "text": [
      "Total foods: 4213\n",
      "Number of missing values in food_name_en: 0\n"
     ]
    },
    {
     "data": {
      "text/html": [
       "<div>\n",
       "<style scoped>\n",
       "    .dataframe tbody tr th:only-of-type {\n",
       "        vertical-align: middle;\n",
       "    }\n",
       "\n",
       "    .dataframe tbody tr th {\n",
       "        vertical-align: top;\n",
       "    }\n",
       "\n",
       "    .dataframe thead th {\n",
       "        text-align: right;\n",
       "    }\n",
       "</style>\n",
       "<table border=\"1\" class=\"dataframe\">\n",
       "  <thead>\n",
       "    <tr style=\"text-align: right;\">\n",
       "      <th></th>\n",
       "      <th>food_id</th>\n",
       "      <th>food_list_cname</th>\n",
       "      <th>food_name_en</th>\n",
       "      <th>food_name_fr</th>\n",
       "      <th>food_name_de</th>\n",
       "      <th>display_name_en</th>\n",
       "      <th>display_name_fr</th>\n",
       "      <th>display_name_de</th>\n",
       "    </tr>\n",
       "  </thead>\n",
       "  <tbody>\n",
       "    <tr>\n",
       "      <th>0</th>\n",
       "      <td>0011c7e2-bd57-443b-98a7-5829a2a32ef3</td>\n",
       "      <td>ciqual_2020_07_07</td>\n",
       "      <td>Mineral sparkling water (St-Diéry), bottled, s...</td>\n",
       "      <td>Eau minérale St-Diéry, embouteillée, gazeuse, ...</td>\n",
       "      <td>NaN</td>\n",
       "      <td>Strongly mineralized sparkling water (St-Diéry)</td>\n",
       "      <td>Eau minérale gazeuse fortement minéralisée (St...</td>\n",
       "      <td>Stark mineralisiertes Mineralwasser (St-Diéry)</td>\n",
       "    </tr>\n",
       "    <tr>\n",
       "      <th>1</th>\n",
       "      <td>001663ae-31c8-40b1-a02e-3dc9020cd57a</td>\n",
       "      <td>ciqual_2020_07_07</td>\n",
       "      <td>Sweetbread, lamb, raw</td>\n",
       "      <td>Ris, agneau, cru</td>\n",
       "      <td>NaN</td>\n",
       "      <td>Raw lamb sweetbread</td>\n",
       "      <td>Ris d'agneau cru</td>\n",
       "      <td>Rohes Lamm-Bries</td>\n",
       "    </tr>\n",
       "    <tr>\n",
       "      <th>2</th>\n",
       "      <td>0018c6f5-f40f-4958-aef1-97ec4a639537</td>\n",
       "      <td>sfcdb_v6_5</td>\n",
       "      <td>Black forest cake</td>\n",
       "      <td>Tourte fôret noire</td>\n",
       "      <td>Schwarzwälder Kirschtorte</td>\n",
       "      <td>Black forest cake</td>\n",
       "      <td>Forêt noire</td>\n",
       "      <td>Schwarzwälder Kirschtorte</td>\n",
       "    </tr>\n",
       "    <tr>\n",
       "      <th>3</th>\n",
       "      <td>00237a5f-22ce-4063-8eb6-1b6a04a0aecb</td>\n",
       "      <td>ciqual_2020_07_07</td>\n",
       "      <td>Mineral still water (Luchon), bottled, lightly...</td>\n",
       "      <td>Eau minérale Luchon, embouteillée, non gazeuse...</td>\n",
       "      <td>NaN</td>\n",
       "      <td>Luchon mineral water (lightly mineralized)</td>\n",
       "      <td>Eau minérale Luchon (légèrement minéralisée)</td>\n",
       "      <td>Luchon Mineralwasser (leicht mineralisiert)</td>\n",
       "    </tr>\n",
       "    <tr>\n",
       "      <th>4</th>\n",
       "      <td>006e55bb-5f3a-49c3-a9af-642aae1f4f08</td>\n",
       "      <td>ciqual_2020_07_07</td>\n",
       "      <td>Fresh cream cheese cake</td>\n",
       "      <td>Gâteau au fromage blanc</td>\n",
       "      <td>NaN</td>\n",
       "      <td>Fresh cream cheese cake</td>\n",
       "      <td>Gâteau au fromage frais</td>\n",
       "      <td>Frischkäsekuchen</td>\n",
       "    </tr>\n",
       "  </tbody>\n",
       "</table>\n",
       "</div>"
      ],
      "text/plain": [
       "                                food_id    food_list_cname  \\\n",
       "0  0011c7e2-bd57-443b-98a7-5829a2a32ef3  ciqual_2020_07_07   \n",
       "1  001663ae-31c8-40b1-a02e-3dc9020cd57a  ciqual_2020_07_07   \n",
       "2  0018c6f5-f40f-4958-aef1-97ec4a639537         sfcdb_v6_5   \n",
       "3  00237a5f-22ce-4063-8eb6-1b6a04a0aecb  ciqual_2020_07_07   \n",
       "4  006e55bb-5f3a-49c3-a9af-642aae1f4f08  ciqual_2020_07_07   \n",
       "\n",
       "                                        food_name_en  \\\n",
       "0  Mineral sparkling water (St-Diéry), bottled, s...   \n",
       "1                              Sweetbread, lamb, raw   \n",
       "2                                  Black forest cake   \n",
       "3  Mineral still water (Luchon), bottled, lightly...   \n",
       "4                            Fresh cream cheese cake   \n",
       "\n",
       "                                        food_name_fr  \\\n",
       "0  Eau minérale St-Diéry, embouteillée, gazeuse, ...   \n",
       "1                                   Ris, agneau, cru   \n",
       "2                                 Tourte fôret noire   \n",
       "3  Eau minérale Luchon, embouteillée, non gazeuse...   \n",
       "4                            Gâteau au fromage blanc   \n",
       "\n",
       "                food_name_de                                  display_name_en  \\\n",
       "0                        NaN  Strongly mineralized sparkling water (St-Diéry)   \n",
       "1                        NaN                              Raw lamb sweetbread   \n",
       "2  Schwarzwälder Kirschtorte                                Black forest cake   \n",
       "3                        NaN       Luchon mineral water (lightly mineralized)   \n",
       "4                        NaN                          Fresh cream cheese cake   \n",
       "\n",
       "                                     display_name_fr  \\\n",
       "0  Eau minérale gazeuse fortement minéralisée (St...   \n",
       "1                                   Ris d'agneau cru   \n",
       "2                                        Forêt noire   \n",
       "3       Eau minérale Luchon (légèrement minéralisée)   \n",
       "4                            Gâteau au fromage frais   \n",
       "\n",
       "                                  display_name_de  \n",
       "0  Stark mineralisiertes Mineralwasser (St-Diéry)  \n",
       "1                                Rohes Lamm-Bries  \n",
       "2                       Schwarzwälder Kirschtorte  \n",
       "3     Luchon Mineralwasser (leicht mineralisiert)  \n",
       "4                                Frischkäsekuchen  "
      ]
     },
     "execution_count": 17,
     "metadata": {},
     "output_type": "execute_result"
    }
   ],
   "source": [
    "food_df = pd.read_csv(\"data/foods-export-2025-04-10.csv\")\n",
    "\n",
    "print(\"Total foods:\", food_df[\"food_name_en\"].nunique())\n",
    "\n",
    "print(\"Number of missing values in food_name_en:\", food_df[\"food_name_en\"].isna().sum())\n",
    "\n",
    "food_df.head()"
   ]
  },
  {
   "cell_type": "code",
   "execution_count": 18,
   "metadata": {},
   "outputs": [
    {
     "name": "stdout",
     "output_type": "stream",
     "text": [
      "Total products: 34\n",
      "Number of missing values in product_ids: 0\n"
     ]
    },
    {
     "data": {
      "text/html": [
       "<div>\n",
       "<style scoped>\n",
       "    .dataframe tbody tr th:only-of-type {\n",
       "        vertical-align: middle;\n",
       "    }\n",
       "\n",
       "    .dataframe tbody tr th {\n",
       "        vertical-align: top;\n",
       "    }\n",
       "\n",
       "    .dataframe thead th {\n",
       "        text-align: right;\n",
       "    }\n",
       "</style>\n",
       "<table border=\"1\" class=\"dataframe\">\n",
       "  <thead>\n",
       "    <tr style=\"text-align: right;\">\n",
       "      <th></th>\n",
       "      <th>product_id</th>\n",
       "      <th>barcode</th>\n",
       "      <th>status</th>\n",
       "      <th>name_en</th>\n",
       "      <th>name_fr</th>\n",
       "      <th>name_de</th>\n",
       "    </tr>\n",
       "  </thead>\n",
       "  <tbody>\n",
       "    <tr>\n",
       "      <th>0</th>\n",
       "      <td>02f7c7de-a88b-4bb1-b76a-08d61b86e954</td>\n",
       "      <td>7640151710071</td>\n",
       "      <td>complete</td>\n",
       "      <td>Chiefs - Protein bar, crispy cookie</td>\n",
       "      <td>NaN</td>\n",
       "      <td>NaN</td>\n",
       "    </tr>\n",
       "    <tr>\n",
       "      <th>1</th>\n",
       "      <td>064b2b10-6020-4fd0-896e-e075fd53e9ef</td>\n",
       "      <td>7613356814189</td>\n",
       "      <td>complete</td>\n",
       "      <td>Glace vanille bâtonnet</td>\n",
       "      <td>Glace vanille bâtonnet</td>\n",
       "      <td>Glace vanille bâtonnet</td>\n",
       "    </tr>\n",
       "    <tr>\n",
       "      <th>2</th>\n",
       "      <td>088cf3cc-8ddf-41fc-902e-f41af49e3dcf</td>\n",
       "      <td>7610900217731</td>\n",
       "      <td>complete</td>\n",
       "      <td>Energy Milk Vanilla</td>\n",
       "      <td>Energy Milk Vanilla</td>\n",
       "      <td>Energy Milk Vanilla</td>\n",
       "    </tr>\n",
       "    <tr>\n",
       "      <th>3</th>\n",
       "      <td>0b9dd7e0-e8c6-49d6-8840-90a8002f312a</td>\n",
       "      <td>7627536694478</td>\n",
       "      <td>complete</td>\n",
       "      <td>High Protein Choco Drink</td>\n",
       "      <td>NaN</td>\n",
       "      <td>NaN</td>\n",
       "    </tr>\n",
       "    <tr>\n",
       "      <th>4</th>\n",
       "      <td>0c8a62da-48a6-4993-90fa-0d6a57081470</td>\n",
       "      <td>7627535701139</td>\n",
       "      <td>complete</td>\n",
       "      <td>Country Peanut choco chips</td>\n",
       "      <td>Country Peanut choco chips</td>\n",
       "      <td>Country Peanut Choco Chips</td>\n",
       "    </tr>\n",
       "  </tbody>\n",
       "</table>\n",
       "</div>"
      ],
      "text/plain": [
       "                             product_id        barcode    status  \\\n",
       "0  02f7c7de-a88b-4bb1-b76a-08d61b86e954  7640151710071  complete   \n",
       "1  064b2b10-6020-4fd0-896e-e075fd53e9ef  7613356814189  complete   \n",
       "2  088cf3cc-8ddf-41fc-902e-f41af49e3dcf  7610900217731  complete   \n",
       "3  0b9dd7e0-e8c6-49d6-8840-90a8002f312a  7627536694478  complete   \n",
       "4  0c8a62da-48a6-4993-90fa-0d6a57081470  7627535701139  complete   \n",
       "\n",
       "                               name_en                     name_fr  \\\n",
       "0  Chiefs - Protein bar, crispy cookie                         NaN   \n",
       "1               Glace vanille bâtonnet      Glace vanille bâtonnet   \n",
       "2                  Energy Milk Vanilla         Energy Milk Vanilla   \n",
       "3             High Protein Choco Drink                         NaN   \n",
       "4           Country Peanut choco chips  Country Peanut choco chips   \n",
       "\n",
       "                      name_de  \n",
       "0                         NaN  \n",
       "1      Glace vanille bâtonnet  \n",
       "2         Energy Milk Vanilla  \n",
       "3                         NaN  \n",
       "4  Country Peanut Choco Chips  "
      ]
     },
     "execution_count": 18,
     "metadata": {},
     "output_type": "execute_result"
    }
   ],
   "source": [
    "products_df = pd.read_csv(\"data/products.csv\")\n",
    "\n",
    "print(\"Total products:\", products_df[\"product_id\"].nunique())\n",
    "\n",
    "print(\"Number of missing values in product_ids:\", products_df[\"product_id\"].isna().sum())\n",
    "\n",
    "products_df.head()"
   ]
  },
  {
   "cell_type": "markdown",
   "metadata": {},
   "source": [
    "## Run openai"
   ]
  },
  {
   "cell_type": "code",
   "execution_count": 4,
   "metadata": {},
   "outputs": [],
   "source": [
    "system_message = \"\"\"\n",
    "Categorize the given food item according to the Healthy Eating Index (HEI)-2020 components. Consider both adequacy and moderation aspects and determine whether the food’s composition falls into the ideal range for a high HEI score. For each component, return True if the food meets or exceeds the threshold for a maximum score (or, for moderation components, falls within the ideal low range), and False otherwise.\n",
    "\n",
    "Follow these detailed guidelines:\n",
    "\n",
    "### Adequacy Components:\n",
    "1. **Total Fruits (5 points)**  \n",
    "   - Includes 100% fruit juice.  \n",
    "   - **Threshold:** Maximum score if ≥0.8 cup equivalents per 1,000 kcal; zero if no fruit is present.\n",
    "2. **Whole Fruits (5 points)**  \n",
    "   - Includes all fruit forms except juice.  \n",
    "   - **Threshold:** Maximum score if ≥0.4 cup equivalents per 1,000 kcal; zero if absent.\n",
    "3. **Total Vegetables (5 points)**  \n",
    "   - Includes all vegetables, including beans, peas, and lentils.  \n",
    "   - **Threshold:** Maximum score if ≥1.1 cup equivalents per 1,000 kcal; zero if none.\n",
    "4. **Greens and Beans (5 points)**  \n",
    "   - Includes dark green vegetables and legumes (beans, peas, lentils).  \n",
    "   - **Threshold:** Maximum score if ≥0.2 cup equivalents per 1,000 kcal; zero if not present.\n",
    "5. **Whole Grains (10 points)**  \n",
    "   - Only whole grain products.  \n",
    "   - **Threshold:** Maximum score if ≥1.5 ounce equivalents per 1,000 kcal; zero if absent.\n",
    "6. **Dairy (10 points)**  \n",
    "   - Includes all milk products (fluid milk, yogurt, cheese) and fortified soy beverages.  \n",
    "   - **Threshold:** Maximum score if ≥1.3 cup equivalents per 1,000 kcal; zero if none.\n",
    "7. **Total Protein Foods (5 points)**  \n",
    "   - Includes all protein sources including legumes.  \n",
    "   - **Threshold:** Maximum score if ≥2.5 ounce equivalents per 1,000 kcal; zero if absent.\n",
    "8. **Seafood and Plant Proteins (5 points)**  \n",
    "   - Includes seafood, nuts, seeds, soy products (except beverages), and legumes.  \n",
    "   - **Threshold:** Maximum score if ≥0.8 ounce equivalents per 1,000 kcal; zero if none.\n",
    "\n",
    "### Moderation Components:\n",
    "9. **Refined Grains (10 points)**  \n",
    "   - Products made with refined flours.  \n",
    "   - **Threshold:** Maximum score if ≤1.8 ounce equivalents per 1,000 kcal and zero if ≥4.3 ounce equivalents per 1,000 kcal.\n",
    "10. **Sodium (10 points)**  \n",
    "    - **Threshold:** Maximum score if ≤1.1 grams per 1,000 kcal; zero if ≥2.0 grams per 1,000 kcal.\n",
    "11. **Added Sugars (10 points)**  \n",
    "    - **Threshold:** Maximum score if less than 6.5% of energy; zero if ≥26% of energy.\n",
    "12. **Fatty Acids (10 points)**  \n",
    "    - Based on the ratio of (polyunsaturated + monounsaturated fatty acids) to saturated fatty acids.  \n",
    "    - **Threshold:** Maximum score if the ratio is ≥2.5; minimum score if the ratio is ≤1.2.\n",
    "\n",
    "For each of these 12 components (using the keys given below), return a boolean that indicates if the food item's nutrient content is in the optimal range according to the HEI-2020 standards:\n",
    "\n",
    "- total_fruits\n",
    "- whole_fruits\n",
    "- total_vegetables\n",
    "- greens_and_beans\n",
    "- whole_grains\n",
    "- dairy\n",
    "- protein_foods\n",
    "- seafood_plant_proteins\n",
    "- refined_grains\n",
    "- sodium\n",
    "- added_sugars\n",
    "- fatty_acids\n",
    "\n",
    "Be mindful that the food item may seem to fit multiple categories, in which case you should only generalise to the most likely (i.e., main) component, and not consider all or many possible components. Since I only have the entire weight available for that food item, and not individual weight contributions from each category, having many categories would overestimate the amount being sent to the HEI calculation.\n",
    "\"\"\""
   ]
  },
  {
   "cell_type": "code",
   "execution_count": 5,
   "metadata": {},
   "outputs": [],
   "source": [
    "def categorize_food(food_name):\n",
    "    \"\"\"\n",
    "    Categorize a food item according to HEI-2020 components\n",
    "\n",
    "    Args:\n",
    "        food_name (str): Name of the food to categorize\n",
    "\n",
    "    Returns:\n",
    "        dict: Dictionary with HEI food categories\n",
    "    \"\"\"\n",
    "    # Initialize the OpenAI client\n",
    "    # client = OpenAI(api_key=os.environ.get(\"OPENAI_API_KEY\"))\n",
    "\n",
    "    # Make the API call with structured output\n",
    "    response = client.responses.create(\n",
    "        model=\"gpt-4o-mini\",\n",
    "        # reasoning={\"effort\": \"medium\"},\n",
    "        input=[\n",
    "            {\"role\": \"system\", \"content\": system_message},\n",
    "            {\"role\": \"user\", \"content\": f\"Categorize this food: {food_name}\"},\n",
    "        ],\n",
    "        text={\n",
    "            \"format\": {\n",
    "                \"type\": \"json_schema\",\n",
    "                \"name\": \"food_category\",\n",
    "                \"schema\": {\n",
    "                    \"type\": \"object\",\n",
    "                    \"properties\": {\n",
    "                        \"total_fruits\": {\"type\": \"boolean\"},\n",
    "                        \"whole_fruits\": {\"type\": \"boolean\"},\n",
    "                        \"total_vegetables\": {\"type\": \"boolean\"},\n",
    "                        \"greens_and_beans\": {\"type\": \"boolean\"},\n",
    "                        \"whole_grains\": {\"type\": \"boolean\"},\n",
    "                        \"dairy\": {\"type\": \"boolean\"},\n",
    "                        \"protein_foods\": {\"type\": \"boolean\"},\n",
    "                        \"seafood_plant_proteins\": {\"type\": \"boolean\"},\n",
    "                        \"refined_grains\": {\"type\": \"boolean\"},\n",
    "                        \"added_sugars\": {\"type\": \"boolean\"},\n",
    "                    },\n",
    "                    \"required\": [\n",
    "                        \"total_fruits\",\n",
    "                        \"whole_fruits\",\n",
    "                        \"total_vegetables\",\n",
    "                        \"greens_and_beans\",\n",
    "                        \"whole_grains\",\n",
    "                        \"dairy\",\n",
    "                        \"protein_foods\",\n",
    "                        \"seafood_plant_proteins\",\n",
    "                        \"refined_grains\",\n",
    "                        \"added_sugars\",\n",
    "                    ],\n",
    "                    \"additionalProperties\": False,\n",
    "                },\n",
    "                \"strict\": True,\n",
    "            }\n",
    "        },\n",
    "    )\n",
    "\n",
    "    food_category = json.loads(response.output_text)\n",
    "    food_category[\"food_name\"] = food_name\n",
    "    return food_category"
   ]
  },
  {
   "cell_type": "code",
   "execution_count": 6,
   "metadata": {},
   "outputs": [
    {
     "name": "stdout",
     "output_type": "stream",
     "text": [
      "{'total_fruits': False, 'whole_fruits': False, 'total_vegetables': False, 'greens_and_beans': False, 'whole_grains': False, 'dairy': True, 'protein_foods': True, 'seafood_plant_proteins': False, 'refined_grains': False, 'added_sugars': True, 'food_name': 'Energy Milk Vanilla'}\n"
     ]
    }
   ],
   "source": [
    "food_name = (\n",
    "    \"Energy Milk Vanilla\"  # \"Honey, from flowers\"  # \"Zucchini piccata, prepared\"\n",
    ")\n",
    "\n",
    "result = categorize_food(food_name)\n",
    "print(result)"
   ]
  },
  {
   "cell_type": "code",
   "execution_count": 7,
   "metadata": {},
   "outputs": [
    {
     "name": "stderr",
     "output_type": "stream",
     "text": [
      "368it [11:36,  1.89s/it]\n"
     ]
    }
   ],
   "source": [
    "import time\n",
    "\n",
    "category_list = []\n",
    "\n",
    "problem_foods = []\n",
    "\n",
    "for e, food_name in tqdm(enumerate(liste)):\n",
    "    try:\n",
    "        res = categorize_food(food_name)\n",
    "        category_list.append(res)\n",
    "        if e % 100 == 0 and e != 0:\n",
    "            pd.DataFrame(category_list).to_csv(\"data/new_products_category_list.csv\", index=False)\n",
    "            time.sleep(5)  # Pause for 5 seconds every 100 iterations\n",
    "    except Exception as e:\n",
    "        problem_foods.append(food_name)\n",
    "        continue"
   ]
  },
  {
   "cell_type": "code",
   "execution_count": 27,
   "metadata": {},
   "outputs": [
    {
     "name": "stderr",
     "output_type": "stream",
     "text": [
      "0it [00:00, ?it/s]"
     ]
    },
    {
     "name": "stderr",
     "output_type": "stream",
     "text": [
      "34it [01:11,  2.09s/it]\n"
     ]
    }
   ],
   "source": [
    "import time\n",
    "import pandas as pd\n",
    "from tqdm import tqdm\n",
    "\n",
    "category_list = []\n",
    "problem_foods = []\n",
    "\n",
    "products_df[\"best_name\"] = products_df[\"name_en\"].fillna(products_df[\"name_fr\"]).fillna(products_df[\"name_de\"])\n",
    "products_df = products_df.dropna(subset=[\"best_name\"])\n",
    "\n",
    "unique_names = products_df[\"best_name\"].drop_duplicates()\n",
    "\n",
    "for e, food_name in tqdm(enumerate(unique_names)):\n",
    "    try:\n",
    "        res = categorize_food(food_name)\n",
    "        category_list.append(res)\n",
    "        if e % 100 == 0 and e != 0:\n",
    "            pd.DataFrame(category_list).to_csv(\"data/products_category_list.csv\", index=False)\n",
    "            time.sleep(5)  # Pause for 5 seconds every 100 iterations\n",
    "    except Exception as err:\n",
    "        problem_foods.append(food_name)\n",
    "        continue\n"
   ]
  },
  {
   "cell_type": "code",
   "execution_count": 8,
   "metadata": {},
   "outputs": [
    {
     "ename": "NameError",
     "evalue": "name 'products_df' is not defined",
     "output_type": "error",
     "traceback": [
      "\u001b[1;31m---------------------------------------------------------------------------\u001b[0m",
      "\u001b[1;31mNameError\u001b[0m                                 Traceback (most recent call last)",
      "Cell \u001b[1;32mIn[8], line 1\u001b[0m\n\u001b[1;32m----> 1\u001b[0m \u001b[43mproducts_df\u001b[49m\n",
      "\u001b[1;31mNameError\u001b[0m: name 'products_df' is not defined"
     ]
    }
   ],
   "source": [
    "products_df"
   ]
  },
  {
   "cell_type": "code",
   "execution_count": 29,
   "metadata": {},
   "outputs": [],
   "source": [
    "pd.DataFrame(category_list).to_csv(\"data/products_category_list.csv\")"
   ]
  },
  {
   "cell_type": "code",
   "execution_count": null,
   "metadata": {},
   "outputs": [],
   "source": []
  }
 ],
 "metadata": {
  "kernelspec": {
   "display_name": "Python 3",
   "language": "python",
   "name": "python3"
  },
  "language_info": {
   "codemirror_mode": {
    "name": "ipython",
    "version": 3
   },
   "file_extension": ".py",
   "mimetype": "text/x-python",
   "name": "python",
   "nbconvert_exporter": "python",
   "pygments_lexer": "ipython3",
   "version": "3.10.11"
  }
 },
 "nbformat": 4,
 "nbformat_minor": 2
}
